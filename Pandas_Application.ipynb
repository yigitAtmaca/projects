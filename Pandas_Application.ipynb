{
 "cells": [
  {
   "cell_type": "code",
   "execution_count": 200,
   "metadata": {},
   "outputs": [],
   "source": [
    "import pandas as pd\n",
    "import numpy as np\n",
    "from scipy import stats"
   ]
  },
  {
   "cell_type": "code",
   "execution_count": 201,
   "metadata": {},
   "outputs": [],
   "source": [
    "tumNotlar ={\"Ayşe:101\" :{\"Türkçe\":55, \"Matematik\":60, \"Fizik\":25, \"Kimya\":35, \"Biyoloji\": 40}, \n",
    "            \"Fatma:102\":{\"Türkçe\":40, \"Matematik\":65, \"Fizik\":56, \"Kimya\":45, \"Biyoloji\": 24}, \n",
    "            \"Ali:103\" : {\"Türkçe\":25, \"Matematik\":35, \"Fizik\":43, \"Kimya\":48, \"Biyoloji\": 31},\n",
    "            \"Veli:104\": {\"Türkçe\":10, \"Matematik\":94, \"Fizik\":87, \"Kimya\":75, \"Biyoloji\": 93},\n",
    "            \"Murat:105\":{\"Türkçe\":89, \"Matematik\":34, \"Fizik\":19, \"Kimya\":71, \"Biyoloji\": 22}\n",
    "           }"
   ]
  },
  {
   "cell_type": "markdown",
   "metadata": {},
   "source": [
    "# a) Her Bir Dersten Sınıfın Aritmetik, Geometrik ve Harmonik Ortalaması"
   ]
  },
  {
   "cell_type": "markdown",
   "metadata": {},
   "source": [
    "* Aritmetik Ortalama"
   ]
  },
  {
   "cell_type": "code",
   "execution_count": 202,
   "metadata": {},
   "outputs": [
    {
     "data": {
      "text/html": [
       "<div>\n",
       "<style scoped>\n",
       "    .dataframe tbody tr th:only-of-type {\n",
       "        vertical-align: middle;\n",
       "    }\n",
       "\n",
       "    .dataframe tbody tr th {\n",
       "        vertical-align: top;\n",
       "    }\n",
       "\n",
       "    .dataframe thead th {\n",
       "        text-align: right;\n",
       "    }\n",
       "</style>\n",
       "<table border=\"1\" class=\"dataframe\">\n",
       "  <thead>\n",
       "    <tr style=\"text-align: right;\">\n",
       "      <th></th>\n",
       "      <th>index</th>\n",
       "      <th>Ayşe:101</th>\n",
       "      <th>Fatma:102</th>\n",
       "      <th>Ali:103</th>\n",
       "      <th>Veli:104</th>\n",
       "      <th>Murat:105</th>\n",
       "    </tr>\n",
       "  </thead>\n",
       "  <tbody>\n",
       "    <tr>\n",
       "      <th>0</th>\n",
       "      <td>Türkçe</td>\n",
       "      <td>55</td>\n",
       "      <td>40</td>\n",
       "      <td>25</td>\n",
       "      <td>10</td>\n",
       "      <td>89</td>\n",
       "    </tr>\n",
       "    <tr>\n",
       "      <th>1</th>\n",
       "      <td>Matematik</td>\n",
       "      <td>60</td>\n",
       "      <td>65</td>\n",
       "      <td>35</td>\n",
       "      <td>94</td>\n",
       "      <td>34</td>\n",
       "    </tr>\n",
       "    <tr>\n",
       "      <th>2</th>\n",
       "      <td>Fizik</td>\n",
       "      <td>25</td>\n",
       "      <td>56</td>\n",
       "      <td>43</td>\n",
       "      <td>87</td>\n",
       "      <td>19</td>\n",
       "    </tr>\n",
       "    <tr>\n",
       "      <th>3</th>\n",
       "      <td>Kimya</td>\n",
       "      <td>35</td>\n",
       "      <td>45</td>\n",
       "      <td>48</td>\n",
       "      <td>75</td>\n",
       "      <td>71</td>\n",
       "    </tr>\n",
       "    <tr>\n",
       "      <th>4</th>\n",
       "      <td>Biyoloji</td>\n",
       "      <td>40</td>\n",
       "      <td>24</td>\n",
       "      <td>31</td>\n",
       "      <td>93</td>\n",
       "      <td>22</td>\n",
       "    </tr>\n",
       "  </tbody>\n",
       "</table>\n",
       "</div>"
      ],
      "text/plain": [
       "       index  Ayşe:101  Fatma:102  Ali:103  Veli:104  Murat:105\n",
       "0     Türkçe        55         40       25        10         89\n",
       "1  Matematik        60         65       35        94         34\n",
       "2      Fizik        25         56       43        87         19\n",
       "3      Kimya        35         45       48        75         71\n",
       "4   Biyoloji        40         24       31        93         22"
      ]
     },
     "execution_count": 202,
     "metadata": {},
     "output_type": "execute_result"
    }
   ],
   "source": [
    "notTablosu = pd.DataFrame(tumNotlar)\n",
    "dF=notTablosu.reset_index()\n",
    "dF"
   ]
  },
  {
   "cell_type": "code",
   "execution_count": 203,
   "metadata": {},
   "outputs": [
    {
     "data": {
      "text/html": [
       "<div>\n",
       "<style scoped>\n",
       "    .dataframe tbody tr th:only-of-type {\n",
       "        vertical-align: middle;\n",
       "    }\n",
       "\n",
       "    .dataframe tbody tr th {\n",
       "        vertical-align: top;\n",
       "    }\n",
       "\n",
       "    .dataframe thead th {\n",
       "        text-align: right;\n",
       "    }\n",
       "</style>\n",
       "<table border=\"1\" class=\"dataframe\">\n",
       "  <thead>\n",
       "    <tr style=\"text-align: right;\">\n",
       "      <th></th>\n",
       "      <th>index</th>\n",
       "      <th>Ayşe:101</th>\n",
       "      <th>Fatma:102</th>\n",
       "      <th>Ali:103</th>\n",
       "      <th>Veli:104</th>\n",
       "      <th>Murat:105</th>\n",
       "      <th>Aritmetik Ort.</th>\n",
       "    </tr>\n",
       "  </thead>\n",
       "  <tbody>\n",
       "    <tr>\n",
       "      <th>0</th>\n",
       "      <td>Türkçe</td>\n",
       "      <td>55</td>\n",
       "      <td>40</td>\n",
       "      <td>25</td>\n",
       "      <td>10</td>\n",
       "      <td>89</td>\n",
       "      <td>43.8</td>\n",
       "    </tr>\n",
       "    <tr>\n",
       "      <th>1</th>\n",
       "      <td>Matematik</td>\n",
       "      <td>60</td>\n",
       "      <td>65</td>\n",
       "      <td>35</td>\n",
       "      <td>94</td>\n",
       "      <td>34</td>\n",
       "      <td>57.6</td>\n",
       "    </tr>\n",
       "    <tr>\n",
       "      <th>2</th>\n",
       "      <td>Fizik</td>\n",
       "      <td>25</td>\n",
       "      <td>56</td>\n",
       "      <td>43</td>\n",
       "      <td>87</td>\n",
       "      <td>19</td>\n",
       "      <td>46.0</td>\n",
       "    </tr>\n",
       "    <tr>\n",
       "      <th>3</th>\n",
       "      <td>Kimya</td>\n",
       "      <td>35</td>\n",
       "      <td>45</td>\n",
       "      <td>48</td>\n",
       "      <td>75</td>\n",
       "      <td>71</td>\n",
       "      <td>54.8</td>\n",
       "    </tr>\n",
       "    <tr>\n",
       "      <th>4</th>\n",
       "      <td>Biyoloji</td>\n",
       "      <td>40</td>\n",
       "      <td>24</td>\n",
       "      <td>31</td>\n",
       "      <td>93</td>\n",
       "      <td>22</td>\n",
       "      <td>42.0</td>\n",
       "    </tr>\n",
       "  </tbody>\n",
       "</table>\n",
       "</div>"
      ],
      "text/plain": [
       "       index  Ayşe:101  Fatma:102  Ali:103  Veli:104  Murat:105  \\\n",
       "0     Türkçe        55         40       25        10         89   \n",
       "1  Matematik        60         65       35        94         34   \n",
       "2      Fizik        25         56       43        87         19   \n",
       "3      Kimya        35         45       48        75         71   \n",
       "4   Biyoloji        40         24       31        93         22   \n",
       "\n",
       "   Aritmetik Ort.  \n",
       "0            43.8  \n",
       "1            57.6  \n",
       "2            46.0  \n",
       "3            54.8  \n",
       "4            42.0  "
      ]
     },
     "execution_count": 203,
     "metadata": {},
     "output_type": "execute_result"
    }
   ],
   "source": [
    "dF[\"Aritmetik Ort.\"]=dF.mean(axis=1)\n",
    "dF"
   ]
  },
  {
   "cell_type": "markdown",
   "metadata": {},
   "source": [
    "* Geometrik Ortalama"
   ]
  },
  {
   "cell_type": "code",
   "execution_count": 204,
   "metadata": {},
   "outputs": [
    {
     "data": {
      "text/html": [
       "<div>\n",
       "<style scoped>\n",
       "    .dataframe tbody tr th:only-of-type {\n",
       "        vertical-align: middle;\n",
       "    }\n",
       "\n",
       "    .dataframe tbody tr th {\n",
       "        vertical-align: top;\n",
       "    }\n",
       "\n",
       "    .dataframe thead th {\n",
       "        text-align: right;\n",
       "    }\n",
       "</style>\n",
       "<table border=\"1\" class=\"dataframe\">\n",
       "  <thead>\n",
       "    <tr style=\"text-align: right;\">\n",
       "      <th></th>\n",
       "      <th>index</th>\n",
       "      <th>Ayşe:101</th>\n",
       "      <th>Fatma:102</th>\n",
       "      <th>Ali:103</th>\n",
       "      <th>Veli:104</th>\n",
       "      <th>Murat:105</th>\n",
       "      <th>Aritmetik Ort.</th>\n",
       "      <th>Geometrik Ort.</th>\n",
       "    </tr>\n",
       "  </thead>\n",
       "  <tbody>\n",
       "    <tr>\n",
       "      <th>0</th>\n",
       "      <td>Türkçe</td>\n",
       "      <td>55</td>\n",
       "      <td>40</td>\n",
       "      <td>25</td>\n",
       "      <td>10</td>\n",
       "      <td>89</td>\n",
       "      <td>43.8</td>\n",
       "      <td>34.510443</td>\n",
       "    </tr>\n",
       "    <tr>\n",
       "      <th>1</th>\n",
       "      <td>Matematik</td>\n",
       "      <td>60</td>\n",
       "      <td>65</td>\n",
       "      <td>35</td>\n",
       "      <td>94</td>\n",
       "      <td>34</td>\n",
       "      <td>57.6</td>\n",
       "      <td>53.450022</td>\n",
       "    </tr>\n",
       "    <tr>\n",
       "      <th>2</th>\n",
       "      <td>Fizik</td>\n",
       "      <td>25</td>\n",
       "      <td>56</td>\n",
       "      <td>43</td>\n",
       "      <td>87</td>\n",
       "      <td>19</td>\n",
       "      <td>46.0</td>\n",
       "      <td>39.771674</td>\n",
       "    </tr>\n",
       "    <tr>\n",
       "      <th>3</th>\n",
       "      <td>Kimya</td>\n",
       "      <td>35</td>\n",
       "      <td>45</td>\n",
       "      <td>48</td>\n",
       "      <td>75</td>\n",
       "      <td>71</td>\n",
       "      <td>54.8</td>\n",
       "      <td>52.597885</td>\n",
       "    </tr>\n",
       "    <tr>\n",
       "      <th>4</th>\n",
       "      <td>Biyoloji</td>\n",
       "      <td>40</td>\n",
       "      <td>24</td>\n",
       "      <td>31</td>\n",
       "      <td>93</td>\n",
       "      <td>22</td>\n",
       "      <td>42.0</td>\n",
       "      <td>36.050203</td>\n",
       "    </tr>\n",
       "  </tbody>\n",
       "</table>\n",
       "</div>"
      ],
      "text/plain": [
       "       index  Ayşe:101  Fatma:102  Ali:103  Veli:104  Murat:105  \\\n",
       "0     Türkçe        55         40       25        10         89   \n",
       "1  Matematik        60         65       35        94         34   \n",
       "2      Fizik        25         56       43        87         19   \n",
       "3      Kimya        35         45       48        75         71   \n",
       "4   Biyoloji        40         24       31        93         22   \n",
       "\n",
       "   Aritmetik Ort.  Geometrik Ort.  \n",
       "0            43.8       34.510443  \n",
       "1            57.6       53.450022  \n",
       "2            46.0       39.771674  \n",
       "3            54.8       52.597885  \n",
       "4            42.0       36.050203  "
      ]
     },
     "execution_count": 204,
     "metadata": {},
     "output_type": "execute_result"
    }
   ],
   "source": [
    "dF['Geometrik Ort.'] = stats.gmean(dF.iloc[:, 1:6], axis=1) \n",
    "dF"
   ]
  },
  {
   "cell_type": "code",
   "execution_count": 205,
   "metadata": {},
   "outputs": [
    {
     "data": {
      "text/html": [
       "<div>\n",
       "<style scoped>\n",
       "    .dataframe tbody tr th:only-of-type {\n",
       "        vertical-align: middle;\n",
       "    }\n",
       "\n",
       "    .dataframe tbody tr th {\n",
       "        vertical-align: top;\n",
       "    }\n",
       "\n",
       "    .dataframe thead th {\n",
       "        text-align: right;\n",
       "    }\n",
       "</style>\n",
       "<table border=\"1\" class=\"dataframe\">\n",
       "  <thead>\n",
       "    <tr style=\"text-align: right;\">\n",
       "      <th></th>\n",
       "      <th>index</th>\n",
       "      <th>Ayşe:101</th>\n",
       "      <th>Fatma:102</th>\n",
       "      <th>Ali:103</th>\n",
       "      <th>Veli:104</th>\n",
       "      <th>Murat:105</th>\n",
       "      <th>Aritmetik Ort.</th>\n",
       "      <th>Geometrik Ort.</th>\n",
       "      <th>Harmonik Ort.</th>\n",
       "    </tr>\n",
       "  </thead>\n",
       "  <tbody>\n",
       "    <tr>\n",
       "      <th>0</th>\n",
       "      <td>Türkçe</td>\n",
       "      <td>55</td>\n",
       "      <td>40</td>\n",
       "      <td>25</td>\n",
       "      <td>10</td>\n",
       "      <td>89</td>\n",
       "      <td>43.8</td>\n",
       "      <td>34.510443</td>\n",
       "      <td>25.717813</td>\n",
       "    </tr>\n",
       "    <tr>\n",
       "      <th>1</th>\n",
       "      <td>Matematik</td>\n",
       "      <td>60</td>\n",
       "      <td>65</td>\n",
       "      <td>35</td>\n",
       "      <td>94</td>\n",
       "      <td>34</td>\n",
       "      <td>57.6</td>\n",
       "      <td>53.450022</td>\n",
       "      <td>49.665861</td>\n",
       "    </tr>\n",
       "    <tr>\n",
       "      <th>2</th>\n",
       "      <td>Fizik</td>\n",
       "      <td>25</td>\n",
       "      <td>56</td>\n",
       "      <td>43</td>\n",
       "      <td>87</td>\n",
       "      <td>19</td>\n",
       "      <td>46.0</td>\n",
       "      <td>39.771674</td>\n",
       "      <td>34.426065</td>\n",
       "    </tr>\n",
       "    <tr>\n",
       "      <th>3</th>\n",
       "      <td>Kimya</td>\n",
       "      <td>35</td>\n",
       "      <td>45</td>\n",
       "      <td>48</td>\n",
       "      <td>75</td>\n",
       "      <td>71</td>\n",
       "      <td>54.8</td>\n",
       "      <td>52.597885</td>\n",
       "      <td>50.482194</td>\n",
       "    </tr>\n",
       "    <tr>\n",
       "      <th>4</th>\n",
       "      <td>Biyoloji</td>\n",
       "      <td>40</td>\n",
       "      <td>24</td>\n",
       "      <td>31</td>\n",
       "      <td>93</td>\n",
       "      <td>22</td>\n",
       "      <td>42.0</td>\n",
       "      <td>36.050203</td>\n",
       "      <td>32.230624</td>\n",
       "    </tr>\n",
       "  </tbody>\n",
       "</table>\n",
       "</div>"
      ],
      "text/plain": [
       "       index  Ayşe:101  Fatma:102  Ali:103  Veli:104  Murat:105  \\\n",
       "0     Türkçe        55         40       25        10         89   \n",
       "1  Matematik        60         65       35        94         34   \n",
       "2      Fizik        25         56       43        87         19   \n",
       "3      Kimya        35         45       48        75         71   \n",
       "4   Biyoloji        40         24       31        93         22   \n",
       "\n",
       "   Aritmetik Ort.  Geometrik Ort.  Harmonik Ort.  \n",
       "0            43.8       34.510443      25.717813  \n",
       "1            57.6       53.450022      49.665861  \n",
       "2            46.0       39.771674      34.426065  \n",
       "3            54.8       52.597885      50.482194  \n",
       "4            42.0       36.050203      32.230624  "
      ]
     },
     "execution_count": 205,
     "metadata": {},
     "output_type": "execute_result"
    }
   ],
   "source": [
    "dF['Harmonik Ort.'] = stats.hmean(dF.iloc[:, 1:6], axis=1)\n",
    "dF"
   ]
  },
  {
   "cell_type": "markdown",
   "metadata": {},
   "source": [
    "# b) Her Bir Öğrencinin Not Ortalaması\n"
   ]
  },
  {
   "cell_type": "code",
   "execution_count": 206,
   "metadata": {},
   "outputs": [
    {
     "data": {
      "text/plain": [
       "Ayşe:101     43.0\n",
       "Fatma:102    46.0\n",
       "Ali:103      36.4\n",
       "Veli:104     71.8\n",
       "Murat:105    47.0\n",
       "dtype: float64"
      ]
     },
     "execution_count": 206,
     "metadata": {},
     "output_type": "execute_result"
    }
   ],
   "source": [
    "Ortalama=notTablosu.mean()\n",
    "Ortalama"
   ]
  },
  {
   "cell_type": "markdown",
   "metadata": {},
   "source": [
    "# c) En Yüksek ve En Düşük Not Ortalamaları"
   ]
  },
  {
   "cell_type": "code",
   "execution_count": 207,
   "metadata": {},
   "outputs": [
    {
     "data": {
      "text/plain": [
       "71.8"
      ]
     },
     "execution_count": 207,
     "metadata": {},
     "output_type": "execute_result"
    }
   ],
   "source": [
    "#EN YÜKSEK\n",
    "Ortalama.max()"
   ]
  },
  {
   "cell_type": "code",
   "execution_count": 208,
   "metadata": {},
   "outputs": [
    {
     "data": {
      "text/plain": [
       "36.4"
      ]
     },
     "execution_count": 208,
     "metadata": {},
     "output_type": "execute_result"
    }
   ],
   "source": [
    "#EN DÜŞÜK\n",
    "Ortalama.min()"
   ]
  },
  {
   "cell_type": "code",
   "execution_count": null,
   "metadata": {},
   "outputs": [],
   "source": []
  },
  {
   "cell_type": "code",
   "execution_count": null,
   "metadata": {},
   "outputs": [],
   "source": []
  },
  {
   "cell_type": "markdown",
   "metadata": {},
   "source": [
    "# d) Her Bir Dersten En Yüksek ve En Düşük Not Farkı"
   ]
  },
  {
   "cell_type": "code",
   "execution_count": 209,
   "metadata": {},
   "outputs": [
    {
     "data": {
      "text/plain": [
       "Türkçe       89\n",
       "Matematik    94\n",
       "Fizik        87\n",
       "Kimya        75\n",
       "Biyoloji     93\n",
       "dtype: int64"
      ]
     },
     "execution_count": 209,
     "metadata": {},
     "output_type": "execute_result"
    }
   ],
   "source": [
    "dersler_MaksimumNot = notTablosu.max(axis=1)\n",
    "dersler_MaksimumNot"
   ]
  },
  {
   "cell_type": "code",
   "execution_count": 210,
   "metadata": {},
   "outputs": [
    {
     "data": {
      "text/plain": [
       "Türkçe       10\n",
       "Matematik    34\n",
       "Fizik        19\n",
       "Kimya        35\n",
       "Biyoloji     22\n",
       "dtype: int64"
      ]
     },
     "execution_count": 210,
     "metadata": {},
     "output_type": "execute_result"
    }
   ],
   "source": [
    "dersler_MinimumNot = notTablosu.min(axis=1)\n",
    "dersler_MinimumNot"
   ]
  },
  {
   "cell_type": "code",
   "execution_count": 211,
   "metadata": {},
   "outputs": [
    {
     "data": {
      "text/plain": [
       "Türkçe       79\n",
       "Matematik    60\n",
       "Fizik        68\n",
       "Kimya        40\n",
       "Biyoloji     71\n",
       "dtype: int64"
      ]
     },
     "execution_count": 211,
     "metadata": {},
     "output_type": "execute_result"
    }
   ],
   "source": [
    "fark = (dersler_MaksimumNot) -(dersler_MinimumNot)\n",
    "fark"
   ]
  },
  {
   "cell_type": "code",
   "execution_count": null,
   "metadata": {},
   "outputs": [],
   "source": []
  },
  {
   "cell_type": "code",
   "execution_count": null,
   "metadata": {},
   "outputs": [],
   "source": []
  },
  {
   "cell_type": "markdown",
   "metadata": {},
   "source": [
    "# e) Her Bir Dersteki En Yüksek ve En Düşük Sınıf Ortalamaları Farkı"
   ]
  },
  {
   "cell_type": "code",
   "execution_count": 219,
   "metadata": {},
   "outputs": [
    {
     "data": {
      "text/plain": [
       "57.6"
      ]
     },
     "execution_count": 219,
     "metadata": {},
     "output_type": "execute_result"
    }
   ],
   "source": [
    "max_Aritmetik_Ort = dF[\"Aritmetik Ort.\"].max()\n",
    "max_Aritmetik_Ort"
   ]
  },
  {
   "cell_type": "code",
   "execution_count": 220,
   "metadata": {},
   "outputs": [
    {
     "data": {
      "text/plain": [
       "42.0"
      ]
     },
     "execution_count": 220,
     "metadata": {},
     "output_type": "execute_result"
    }
   ],
   "source": [
    "min_Aritmetik_Ort = dF[\"Aritmetik Ort.\"].min()\n",
    "min_Aritmetik_Ort"
   ]
  },
  {
   "cell_type": "code",
   "execution_count": 221,
   "metadata": {},
   "outputs": [
    {
     "data": {
      "text/plain": [
       "15.600000000000001"
      ]
     },
     "execution_count": 221,
     "metadata": {},
     "output_type": "execute_result"
    }
   ],
   "source": [
    "fark_Ortalama = (max_Aritmetik_Ort) - (min_Aritmetik_Ort)\n",
    "fark_Ortalama"
   ]
  },
  {
   "cell_type": "code",
   "execution_count": null,
   "metadata": {},
   "outputs": [],
   "source": []
  }
 ],
 "metadata": {
  "kernelspec": {
   "display_name": "Python 3",
   "language": "python",
   "name": "python3"
  }
 },
 "nbformat": 4,
 "nbformat_minor": 4
}
